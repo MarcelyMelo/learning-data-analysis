{
 "cells": [
  {
   "cell_type": "markdown",
   "id": "0243fbd7",
   "metadata": {
    "papermill": {
     "duration": 0.004252,
     "end_time": "2025-04-25T22:20:41.169277",
     "exception": false,
     "start_time": "2025-04-25T22:20:41.165025",
     "status": "completed"
    },
    "tags": []
   },
   "source": [
    "**This notebook is an exercise in the [Pandas](https://www.kaggle.com/learn/pandas) course.  You can reference the tutorial at [this link](https://www.kaggle.com/residentmario/creating-reading-and-writing).**\n",
    "\n",
    "---\n"
   ]
  },
  {
   "cell_type": "markdown",
   "id": "3a1907ea",
   "metadata": {
    "papermill": {
     "duration": 0.003453,
     "end_time": "2025-04-25T22:20:41.176780",
     "exception": false,
     "start_time": "2025-04-25T22:20:41.173327",
     "status": "completed"
    },
    "tags": []
   },
   "source": [
    "# Introduction\n",
    "\n",
    "The first step in most data analytics projects is reading the data file. In this exercise, you'll create Series and DataFrame objects, both by hand and by reading data files.\n",
    "\n",
    "Run the code cell below to load libraries you will need (including code to check your answers)."
   ]
  },
  {
   "cell_type": "code",
   "execution_count": 1,
   "id": "79a1fb8c",
   "metadata": {
    "execution": {
     "iopub.execute_input": "2025-04-25T22:20:41.185811Z",
     "iopub.status.busy": "2025-04-25T22:20:41.184960Z",
     "iopub.status.idle": "2025-04-25T22:20:45.313626Z",
     "shell.execute_reply": "2025-04-25T22:20:45.312611Z"
    },
    "papermill": {
     "duration": 4.134846,
     "end_time": "2025-04-25T22:20:45.315276",
     "exception": false,
     "start_time": "2025-04-25T22:20:41.180430",
     "status": "completed"
    },
    "tags": []
   },
   "outputs": [
    {
     "name": "stdout",
     "output_type": "stream",
     "text": [
      "Setup complete.\n"
     ]
    }
   ],
   "source": [
    "import pandas as pd\n",
    "pd.set_option('display.max_rows', 5)\n",
    "from learntools.core import binder; binder.bind(globals())\n",
    "from learntools.pandas.creating_reading_and_writing import *\n",
    "print(\"Setup complete.\")"
   ]
  },
  {
   "cell_type": "markdown",
   "id": "6c7203a5",
   "metadata": {
    "papermill": {
     "duration": 0.003903,
     "end_time": "2025-04-25T22:20:45.324461",
     "exception": false,
     "start_time": "2025-04-25T22:20:45.320558",
     "status": "completed"
    },
    "tags": []
   },
   "source": [
    "# Exercises"
   ]
  },
  {
   "cell_type": "markdown",
   "id": "c79c018e",
   "metadata": {
    "papermill": {
     "duration": 0.003561,
     "end_time": "2025-04-25T22:20:45.331752",
     "exception": false,
     "start_time": "2025-04-25T22:20:45.328191",
     "status": "completed"
    },
    "tags": []
   },
   "source": [
    "## 1.\n",
    "\n",
    "In the cell below, create a DataFrame `fruits` that looks like this:\n",
    "\n",
    "![](https://storage.googleapis.com/kaggle-media/learn/images/Ax3pp2A.png)"
   ]
  },
  {
   "cell_type": "code",
   "execution_count": 2,
   "id": "bdd56d10",
   "metadata": {
    "execution": {
     "iopub.execute_input": "2025-04-25T22:20:45.341433Z",
     "iopub.status.busy": "2025-04-25T22:20:45.341070Z",
     "iopub.status.idle": "2025-04-25T22:20:45.352269Z",
     "shell.execute_reply": "2025-04-25T22:20:45.351185Z"
    },
    "papermill": {
     "duration": 0.018272,
     "end_time": "2025-04-25T22:20:45.354118",
     "exception": false,
     "start_time": "2025-04-25T22:20:45.335846",
     "status": "completed"
    },
    "tags": []
   },
   "outputs": [
    {
     "data": {
      "application/javascript": [
       "parent.postMessage({\"jupyterEvent\": \"custom.exercise_interaction\", \"data\": {\"outcomeType\": 4, \"interactionType\": 1, \"questionType\": 1, \"questionId\": \"1_FruitDfCreation\", \"learnToolsVersion\": \"0.3.5\", \"valueTowardsCompletion\": 0.0, \"failureMessage\": \"\", \"exceptionClass\": \"\", \"trace\": \"\"}}, \"*\")"
      ],
      "text/plain": [
       "<IPython.core.display.Javascript object>"
      ]
     },
     "metadata": {},
     "output_type": "display_data"
    },
    {
     "data": {
      "text/markdown": [
       "<span style=\"color:#ccaa33\">Check:</span> When you've updated the starter code, `check()` will tell you whether your code is correct. You need to update the code that creates variable `fruits`"
      ],
      "text/plain": [
       "Check: When you've updated the starter code, `check()` will tell you whether your code is correct. You need to update the code that creates variable `fruits`"
      ]
     },
     "metadata": {},
     "output_type": "display_data"
    },
    {
     "data": {
      "text/markdown": [],
      "text/plain": [
       "<learntools.core.constants.PlaceholderValue at 0x7e392274a650>"
      ]
     },
     "execution_count": 2,
     "metadata": {},
     "output_type": "execute_result"
    }
   ],
   "source": [
    "# Your code goes here. Create a dataframe matching the above diagram and assign it to the variable fruits.\n",
    "fruits = ____\n",
    "\n",
    "# Check your answer\n",
    "q1.check()\n",
    "fruits"
   ]
  },
  {
   "cell_type": "code",
   "execution_count": 3,
   "id": "c83eb598",
   "metadata": {
    "execution": {
     "iopub.execute_input": "2025-04-25T22:20:45.363859Z",
     "iopub.status.busy": "2025-04-25T22:20:45.363514Z",
     "iopub.status.idle": "2025-04-25T22:20:45.367740Z",
     "shell.execute_reply": "2025-04-25T22:20:45.366696Z"
    },
    "papermill": {
     "duration": 0.011129,
     "end_time": "2025-04-25T22:20:45.369573",
     "exception": false,
     "start_time": "2025-04-25T22:20:45.358444",
     "status": "completed"
    },
    "tags": []
   },
   "outputs": [],
   "source": [
    "#q1.hint()\n",
    "#q1.solution()"
   ]
  },
  {
   "cell_type": "markdown",
   "id": "9c60a567",
   "metadata": {
    "papermill": {
     "duration": 0.003792,
     "end_time": "2025-04-25T22:20:45.377522",
     "exception": false,
     "start_time": "2025-04-25T22:20:45.373730",
     "status": "completed"
    },
    "tags": []
   },
   "source": [
    "## 2.\n",
    "\n",
    "Create a dataframe `fruit_sales` that matches the diagram below:\n",
    "\n",
    "![](https://storage.googleapis.com/kaggle-media/learn/images/CHPn7ZF.png)"
   ]
  },
  {
   "cell_type": "code",
   "execution_count": 4,
   "id": "6aafc14a",
   "metadata": {
    "execution": {
     "iopub.execute_input": "2025-04-25T22:20:45.387987Z",
     "iopub.status.busy": "2025-04-25T22:20:45.387646Z",
     "iopub.status.idle": "2025-04-25T22:20:45.399569Z",
     "shell.execute_reply": "2025-04-25T22:20:45.398304Z"
    },
    "papermill": {
     "duration": 0.019187,
     "end_time": "2025-04-25T22:20:45.401398",
     "exception": false,
     "start_time": "2025-04-25T22:20:45.382211",
     "status": "completed"
    },
    "tags": []
   },
   "outputs": [
    {
     "data": {
      "application/javascript": [
       "parent.postMessage({\"jupyterEvent\": \"custom.exercise_interaction\", \"data\": {\"outcomeType\": 4, \"interactionType\": 1, \"questionType\": 1, \"questionId\": \"2_FruitSalesDfCreation\", \"learnToolsVersion\": \"0.3.5\", \"valueTowardsCompletion\": 0.0, \"failureMessage\": \"\", \"exceptionClass\": \"\", \"trace\": \"\"}}, \"*\")"
      ],
      "text/plain": [
       "<IPython.core.display.Javascript object>"
      ]
     },
     "metadata": {},
     "output_type": "display_data"
    },
    {
     "data": {
      "text/markdown": [
       "<span style=\"color:#ccaa33\">Check:</span> When you've updated the starter code, `check()` will tell you whether your code is correct. You need to update the code that creates variable `fruit_sales`"
      ],
      "text/plain": [
       "Check: When you've updated the starter code, `check()` will tell you whether your code is correct. You need to update the code that creates variable `fruit_sales`"
      ]
     },
     "metadata": {},
     "output_type": "display_data"
    },
    {
     "data": {
      "text/markdown": [],
      "text/plain": [
       "<learntools.core.constants.PlaceholderValue at 0x7e392274a650>"
      ]
     },
     "execution_count": 4,
     "metadata": {},
     "output_type": "execute_result"
    }
   ],
   "source": [
    "# Your code goes here. Create a dataframe matching the above diagram and assign it to the variable fruit_sales.\n",
    "fruit_sales = ____\n",
    "\n",
    "# Check your answer\n",
    "q2.check()\n",
    "fruit_sales"
   ]
  },
  {
   "cell_type": "code",
   "execution_count": 5,
   "id": "ad0417e0",
   "metadata": {
    "execution": {
     "iopub.execute_input": "2025-04-25T22:20:45.414198Z",
     "iopub.status.busy": "2025-04-25T22:20:45.413694Z",
     "iopub.status.idle": "2025-04-25T22:20:45.419475Z",
     "shell.execute_reply": "2025-04-25T22:20:45.417972Z"
    },
    "papermill": {
     "duration": 0.014835,
     "end_time": "2025-04-25T22:20:45.421161",
     "exception": false,
     "start_time": "2025-04-25T22:20:45.406326",
     "status": "completed"
    },
    "tags": []
   },
   "outputs": [],
   "source": [
    "#q2.hint()\n",
    "#q2.solution()"
   ]
  },
  {
   "cell_type": "markdown",
   "id": "11da000b",
   "metadata": {
    "papermill": {
     "duration": 0.00413,
     "end_time": "2025-04-25T22:20:45.430204",
     "exception": false,
     "start_time": "2025-04-25T22:20:45.426074",
     "status": "completed"
    },
    "tags": []
   },
   "source": [
    "## 3.\n",
    "\n",
    "Create a variable `ingredients` with a Series that looks like:\n",
    "\n",
    "```\n",
    "Flour     4 cups\n",
    "Milk       1 cup\n",
    "Eggs     2 large\n",
    "Spam       1 can\n",
    "Name: Dinner, dtype: object\n",
    "```"
   ]
  },
  {
   "cell_type": "code",
   "execution_count": 6,
   "id": "6fd3dbb3",
   "metadata": {
    "execution": {
     "iopub.execute_input": "2025-04-25T22:20:45.441084Z",
     "iopub.status.busy": "2025-04-25T22:20:45.440710Z",
     "iopub.status.idle": "2025-04-25T22:20:45.450849Z",
     "shell.execute_reply": "2025-04-25T22:20:45.449934Z"
    },
    "papermill": {
     "duration": 0.0176,
     "end_time": "2025-04-25T22:20:45.452754",
     "exception": false,
     "start_time": "2025-04-25T22:20:45.435154",
     "status": "completed"
    },
    "tags": []
   },
   "outputs": [
    {
     "data": {
      "application/javascript": [
       "parent.postMessage({\"jupyterEvent\": \"custom.exercise_interaction\", \"data\": {\"outcomeType\": 4, \"interactionType\": 1, \"questionType\": 2, \"questionId\": \"3_RecipeSeriesCreation\", \"learnToolsVersion\": \"0.3.5\", \"valueTowardsCompletion\": 0.0, \"failureMessage\": \"\", \"exceptionClass\": \"\", \"trace\": \"\"}}, \"*\")"
      ],
      "text/plain": [
       "<IPython.core.display.Javascript object>"
      ]
     },
     "metadata": {},
     "output_type": "display_data"
    },
    {
     "data": {
      "text/markdown": [
       "<span style=\"color:#ccaa33\">Check:</span> When you've updated the starter code, `check()` will tell you whether your code is correct. You need to update the code that creates variable `ingredients`"
      ],
      "text/plain": [
       "Check: When you've updated the starter code, `check()` will tell you whether your code is correct. You need to update the code that creates variable `ingredients`"
      ]
     },
     "metadata": {},
     "output_type": "display_data"
    },
    {
     "data": {
      "text/markdown": [],
      "text/plain": [
       "<learntools.core.constants.PlaceholderValue at 0x7e392274a650>"
      ]
     },
     "execution_count": 6,
     "metadata": {},
     "output_type": "execute_result"
    }
   ],
   "source": [
    "ingredients = ____\n",
    "\n",
    "# Check your answer\n",
    "q3.check()\n",
    "ingredients"
   ]
  },
  {
   "cell_type": "code",
   "execution_count": 7,
   "id": "5444e0e9",
   "metadata": {
    "execution": {
     "iopub.execute_input": "2025-04-25T22:20:45.464287Z",
     "iopub.status.busy": "2025-04-25T22:20:45.463966Z",
     "iopub.status.idle": "2025-04-25T22:20:45.468537Z",
     "shell.execute_reply": "2025-04-25T22:20:45.467391Z"
    },
    "papermill": {
     "duration": 0.012672,
     "end_time": "2025-04-25T22:20:45.470174",
     "exception": false,
     "start_time": "2025-04-25T22:20:45.457502",
     "status": "completed"
    },
    "tags": []
   },
   "outputs": [],
   "source": [
    "#q3.hint()\n",
    "#q3.solution()"
   ]
  },
  {
   "cell_type": "markdown",
   "id": "debbb533",
   "metadata": {
    "papermill": {
     "duration": 0.004801,
     "end_time": "2025-04-25T22:20:45.480522",
     "exception": false,
     "start_time": "2025-04-25T22:20:45.475721",
     "status": "completed"
    },
    "tags": []
   },
   "source": [
    "## 4.\n",
    "\n",
    "Read the following csv dataset of wine reviews into a DataFrame called `reviews`:\n",
    "\n",
    "![](https://storage.googleapis.com/kaggle-media/learn/images/74RCZtU.png)\n",
    "\n",
    "The filepath to the csv file is `../input/wine-reviews/winemag-data_first150k.csv`. The first few lines look like:\n",
    "\n",
    "```\n",
    ",country,description,designation,points,price,province,region_1,region_2,variety,winery\n",
    "0,US,\"This tremendous 100% varietal wine[...]\",Martha's Vineyard,96,235.0,California,Napa Valley,Napa,Cabernet Sauvignon,Heitz\n",
    "1,Spain,\"Ripe aromas of fig, blackberry and[...]\",Carodorum Selección Especial Reserva,96,110.0,Northern Spain,Toro,,Tinta de Toro,Bodega Carmen Rodríguez\n",
    "```"
   ]
  },
  {
   "cell_type": "code",
   "execution_count": 8,
   "id": "57a8051d",
   "metadata": {
    "execution": {
     "iopub.execute_input": "2025-04-25T22:20:45.491404Z",
     "iopub.status.busy": "2025-04-25T22:20:45.491049Z",
     "iopub.status.idle": "2025-04-25T22:20:45.500552Z",
     "shell.execute_reply": "2025-04-25T22:20:45.499693Z"
    },
    "papermill": {
     "duration": 0.016913,
     "end_time": "2025-04-25T22:20:45.502248",
     "exception": false,
     "start_time": "2025-04-25T22:20:45.485335",
     "status": "completed"
    },
    "tags": []
   },
   "outputs": [
    {
     "data": {
      "application/javascript": [
       "parent.postMessage({\"jupyterEvent\": \"custom.exercise_interaction\", \"data\": {\"outcomeType\": 4, \"interactionType\": 1, \"questionType\": 1, \"questionId\": \"4_ReadWineCsv\", \"learnToolsVersion\": \"0.3.5\", \"valueTowardsCompletion\": 0.0, \"failureMessage\": \"\", \"exceptionClass\": \"\", \"trace\": \"\"}}, \"*\")"
      ],
      "text/plain": [
       "<IPython.core.display.Javascript object>"
      ]
     },
     "metadata": {},
     "output_type": "display_data"
    },
    {
     "data": {
      "text/markdown": [
       "<span style=\"color:#ccaa33\">Check:</span> When you've updated the starter code, `check()` will tell you whether your code is correct. You need to update the code that creates variable `reviews`"
      ],
      "text/plain": [
       "Check: When you've updated the starter code, `check()` will tell you whether your code is correct. You need to update the code that creates variable `reviews`"
      ]
     },
     "metadata": {},
     "output_type": "display_data"
    },
    {
     "data": {
      "text/markdown": [],
      "text/plain": [
       "<learntools.core.constants.PlaceholderValue at 0x7e392274a650>"
      ]
     },
     "execution_count": 8,
     "metadata": {},
     "output_type": "execute_result"
    }
   ],
   "source": [
    "reviews = ____\n",
    "\n",
    "# Check your answer\n",
    "q4.check()\n",
    "reviews"
   ]
  },
  {
   "cell_type": "code",
   "execution_count": 9,
   "id": "e7ba2323",
   "metadata": {
    "execution": {
     "iopub.execute_input": "2025-04-25T22:20:45.514752Z",
     "iopub.status.busy": "2025-04-25T22:20:45.514442Z",
     "iopub.status.idle": "2025-04-25T22:20:45.518475Z",
     "shell.execute_reply": "2025-04-25T22:20:45.517581Z"
    },
    "papermill": {
     "duration": 0.012785,
     "end_time": "2025-04-25T22:20:45.520231",
     "exception": false,
     "start_time": "2025-04-25T22:20:45.507446",
     "status": "completed"
    },
    "tags": []
   },
   "outputs": [],
   "source": [
    "#q4.hint()\n",
    "#q4.solution()"
   ]
  },
  {
   "cell_type": "markdown",
   "id": "b56db517",
   "metadata": {
    "papermill": {
     "duration": 0.004702,
     "end_time": "2025-04-25T22:20:45.530133",
     "exception": false,
     "start_time": "2025-04-25T22:20:45.525431",
     "status": "completed"
    },
    "tags": []
   },
   "source": [
    "## 5.\n",
    "\n",
    "Run the cell below to create and display a DataFrame called `animals`:"
   ]
  },
  {
   "cell_type": "code",
   "execution_count": 10,
   "id": "e4bc1830",
   "metadata": {
    "execution": {
     "iopub.execute_input": "2025-04-25T22:20:45.541528Z",
     "iopub.status.busy": "2025-04-25T22:20:45.541138Z",
     "iopub.status.idle": "2025-04-25T22:20:45.564326Z",
     "shell.execute_reply": "2025-04-25T22:20:45.563406Z"
    },
    "papermill": {
     "duration": 0.03141,
     "end_time": "2025-04-25T22:20:45.566529",
     "exception": false,
     "start_time": "2025-04-25T22:20:45.535119",
     "status": "completed"
    },
    "tags": []
   },
   "outputs": [
    {
     "data": {
      "text/html": [
       "<div>\n",
       "<style scoped>\n",
       "    .dataframe tbody tr th:only-of-type {\n",
       "        vertical-align: middle;\n",
       "    }\n",
       "\n",
       "    .dataframe tbody tr th {\n",
       "        vertical-align: top;\n",
       "    }\n",
       "\n",
       "    .dataframe thead th {\n",
       "        text-align: right;\n",
       "    }\n",
       "</style>\n",
       "<table border=\"1\" class=\"dataframe\">\n",
       "  <thead>\n",
       "    <tr style=\"text-align: right;\">\n",
       "      <th></th>\n",
       "      <th>Cows</th>\n",
       "      <th>Goats</th>\n",
       "    </tr>\n",
       "  </thead>\n",
       "  <tbody>\n",
       "    <tr>\n",
       "      <th>Year 1</th>\n",
       "      <td>12</td>\n",
       "      <td>22</td>\n",
       "    </tr>\n",
       "    <tr>\n",
       "      <th>Year 2</th>\n",
       "      <td>20</td>\n",
       "      <td>19</td>\n",
       "    </tr>\n",
       "  </tbody>\n",
       "</table>\n",
       "</div>"
      ],
      "text/plain": [
       "        Cows  Goats\n",
       "Year 1    12     22\n",
       "Year 2    20     19"
      ]
     },
     "execution_count": 10,
     "metadata": {},
     "output_type": "execute_result"
    }
   ],
   "source": [
    "animals = pd.DataFrame({'Cows': [12, 20], 'Goats': [22, 19]}, index=['Year 1', 'Year 2'])\n",
    "animals"
   ]
  },
  {
   "cell_type": "markdown",
   "id": "7ae101f4",
   "metadata": {
    "papermill": {
     "duration": 0.005331,
     "end_time": "2025-04-25T22:20:45.577227",
     "exception": false,
     "start_time": "2025-04-25T22:20:45.571896",
     "status": "completed"
    },
    "tags": []
   },
   "source": [
    "In the cell below, write code to save this DataFrame to disk as a csv file with the name `cows_and_goats.csv`."
   ]
  },
  {
   "cell_type": "code",
   "execution_count": 11,
   "id": "93fe471b",
   "metadata": {
    "execution": {
     "iopub.execute_input": "2025-04-25T22:20:45.589409Z",
     "iopub.status.busy": "2025-04-25T22:20:45.588957Z",
     "iopub.status.idle": "2025-04-25T22:20:45.596640Z",
     "shell.execute_reply": "2025-04-25T22:20:45.595686Z"
    },
    "papermill": {
     "duration": 0.015975,
     "end_time": "2025-04-25T22:20:45.598614",
     "exception": false,
     "start_time": "2025-04-25T22:20:45.582639",
     "status": "completed"
    },
    "tags": []
   },
   "outputs": [
    {
     "data": {
      "application/javascript": [
       "parent.postMessage({\"jupyterEvent\": \"custom.exercise_interaction\", \"data\": {\"outcomeType\": 2, \"failureMessage\": \"Expected file to exist with name `cows_and_goats.csv`\", \"interactionType\": 1, \"questionType\": 2, \"questionId\": \"5_SaveAnimalsCsv\", \"learnToolsVersion\": \"0.3.5\", \"valueTowardsCompletion\": 0.0, \"exceptionClass\": \"\", \"trace\": \"\"}}, \"*\")"
      ],
      "text/plain": [
       "<IPython.core.display.Javascript object>"
      ]
     },
     "metadata": {},
     "output_type": "display_data"
    },
    {
     "data": {
      "text/markdown": [
       "<span style=\"color:#cc3333\">Incorrect:</span> Expected file to exist with name `cows_and_goats.csv`"
      ],
      "text/plain": [
       "Incorrect: Expected file to exist with name `cows_and_goats.csv`"
      ]
     },
     "metadata": {},
     "output_type": "display_data"
    }
   ],
   "source": [
    "# Your code goes here\n",
    "\n",
    "# Check your answer\n",
    "q5.check()"
   ]
  },
  {
   "cell_type": "code",
   "execution_count": 12,
   "id": "0dc79dbd",
   "metadata": {
    "execution": {
     "iopub.execute_input": "2025-04-25T22:20:45.611084Z",
     "iopub.status.busy": "2025-04-25T22:20:45.610275Z",
     "iopub.status.idle": "2025-04-25T22:20:45.614799Z",
     "shell.execute_reply": "2025-04-25T22:20:45.613865Z"
    },
    "papermill": {
     "duration": 0.012485,
     "end_time": "2025-04-25T22:20:45.616551",
     "exception": false,
     "start_time": "2025-04-25T22:20:45.604066",
     "status": "completed"
    },
    "tags": []
   },
   "outputs": [],
   "source": [
    "#q5.hint()\n",
    "#q5.solution()"
   ]
  },
  {
   "cell_type": "markdown",
   "id": "66c33dd0",
   "metadata": {
    "papermill": {
     "duration": 0.005124,
     "end_time": "2025-04-25T22:20:45.627098",
     "exception": false,
     "start_time": "2025-04-25T22:20:45.621974",
     "status": "completed"
    },
    "tags": []
   },
   "source": [
    "# Keep going\n",
    "\n",
    "Move on to learn about **[indexing, selecting and assigning](https://www.kaggle.com/residentmario/indexing-selecting-assigning)**."
   ]
  },
  {
   "cell_type": "markdown",
   "id": "db0799c3",
   "metadata": {
    "papermill": {
     "duration": 0.005643,
     "end_time": "2025-04-25T22:20:45.638425",
     "exception": false,
     "start_time": "2025-04-25T22:20:45.632782",
     "status": "completed"
    },
    "tags": []
   },
   "source": [
    "---\n",
    "\n",
    "\n",
    "\n",
    "\n",
    "*Have questions or comments? Visit the [course discussion forum](https://www.kaggle.com/learn/pandas/discussion) to chat with other learners.*"
   ]
  }
 ],
 "metadata": {
  "kaggle": {
   "accelerator": "none",
   "dataSources": [
    {
     "datasetId": 655,
     "sourceId": 1252,
     "sourceType": "datasetVersion"
    },
    {
     "datasetId": 2321,
     "sourceId": 3919,
     "sourceType": "datasetVersion"
    },
    {
     "datasetId": 2894,
     "sourceId": 4877,
     "sourceType": "datasetVersion"
    },
    {
     "datasetId": 3491,
     "sourceId": 5624,
     "sourceType": "datasetVersion"
    },
    {
     "datasetId": 1442,
     "sourceId": 8172,
     "sourceType": "datasetVersion"
    },
    {
     "datasetId": 9366,
     "sourceId": 13206,
     "sourceType": "datasetVersion"
    },
    {
     "datasetId": 179555,
     "sourceId": 403916,
     "sourceType": "datasetVersion"
    },
    {
     "datasetId": 4549,
     "sourceId": 466349,
     "sourceType": "datasetVersion"
    },
    {
     "datasetId": 2478,
     "sourceId": 1151655,
     "sourceType": "datasetVersion"
    },
    {
     "datasetId": 10128,
     "sourceId": 5438389,
     "sourceType": "datasetVersion"
    }
   ],
   "isGpuEnabled": false,
   "isInternetEnabled": false,
   "language": "python",
   "sourceType": "notebook"
  },
  "kernelspec": {
   "display_name": "Python 3",
   "language": "python",
   "name": "python3"
  },
  "language_info": {
   "codemirror_mode": {
    "name": "ipython",
    "version": 3
   },
   "file_extension": ".py",
   "mimetype": "text/x-python",
   "name": "python",
   "nbconvert_exporter": "python",
   "pygments_lexer": "ipython3",
   "version": "3.11.11"
  },
  "papermill": {
   "default_parameters": {},
   "duration": 10.517036,
   "end_time": "2025-04-25T22:20:46.164303",
   "environment_variables": {},
   "exception": null,
   "input_path": "__notebook__.ipynb",
   "output_path": "__notebook__.ipynb",
   "parameters": {},
   "start_time": "2025-04-25T22:20:35.647267",
   "version": "2.6.0"
  }
 },
 "nbformat": 4,
 "nbformat_minor": 5
}
