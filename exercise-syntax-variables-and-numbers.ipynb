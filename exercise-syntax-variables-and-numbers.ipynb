{
 "cells": [
  {
   "cell_type": "markdown",
   "id": "72ced0c2",
   "metadata": {
    "papermill": {
     "duration": 0.005252,
     "end_time": "2025-04-26T01:37:45.387239",
     "exception": false,
     "start_time": "2025-04-26T01:37:45.381987",
     "status": "completed"
    },
    "tags": []
   },
   "source": [
    "**This notebook is an exercise in the [Python](https://www.kaggle.com/learn/python) course.  You can reference the tutorial at [this link](https://www.kaggle.com/colinmorris/hello-python).**\n",
    "\n",
    "---\n"
   ]
  },
  {
   "cell_type": "markdown",
   "id": "2e2ce1d5",
   "metadata": {
    "papermill": {
     "duration": 0.00425,
     "end_time": "2025-04-26T01:37:45.396336",
     "exception": false,
     "start_time": "2025-04-26T01:37:45.392086",
     "status": "completed"
    },
    "tags": []
   },
   "source": [
    "Welcome to your first set of Python coding problems.  If this is your first time using Kaggle Notebooks, welcome! \n",
    "\n",
    "Notebooks are composed of blocks (called \"cells\") of text and code. Each of these is editable, though you'll mainly be editing the code cells to answer some questions.\n",
    "\n",
    "To get started, try running the code cell below (by pressing the ► button, or clicking on the cell and pressing ctrl+enter on your keyboard)."
   ]
  },
  {
   "cell_type": "code",
   "execution_count": 1,
   "id": "d74b840c",
   "metadata": {
    "execution": {
     "iopub.execute_input": "2025-04-26T01:37:45.407094Z",
     "iopub.status.busy": "2025-04-26T01:37:45.406723Z",
     "iopub.status.idle": "2025-04-26T01:37:45.417867Z",
     "shell.execute_reply": "2025-04-26T01:37:45.416866Z"
    },
    "papermill": {
     "duration": 0.018631,
     "end_time": "2025-04-26T01:37:45.419716",
     "exception": false,
     "start_time": "2025-04-26T01:37:45.401085",
     "status": "completed"
    },
    "tags": []
   },
   "outputs": [
    {
     "name": "stdout",
     "output_type": "stream",
     "text": [
      "You've successfully run some Python code\n",
      "Congratulations!\n"
     ]
    }
   ],
   "source": [
    "print(\"You've successfully run some Python code\")\n",
    "print(\"Congratulations!\")"
   ]
  },
  {
   "cell_type": "markdown",
   "id": "4441b820",
   "metadata": {
    "papermill": {
     "duration": 0.004599,
     "end_time": "2025-04-26T01:37:45.432937",
     "exception": false,
     "start_time": "2025-04-26T01:37:45.428338",
     "status": "completed"
    },
    "tags": []
   },
   "source": [
    "Try adding another line of code in the cell above and re-running it. \n",
    "\n",
    "Now let's get a little fancier:  Add a new code cell by clicking on an existing code cell, hitting the escape key, and then hitting the `a` or `b` key.  The `a` key will add a cell above the current cell, and `b` adds a cell below.\n",
    "\n",
    "Great! Now you know how to use Notebooks.\n",
    "\n",
    "Each hands-on exercise starts by setting up our feedback and code checking mechanism. Run the code cell below to do that. Then you'll be ready to move on to question 0."
   ]
  },
  {
   "cell_type": "code",
   "execution_count": 2,
   "id": "4fabee63",
   "metadata": {
    "_kg_hide-input": true,
    "_kg_hide-output": true,
    "execution": {
     "iopub.execute_input": "2025-04-26T01:37:45.443979Z",
     "iopub.status.busy": "2025-04-26T01:37:45.443565Z",
     "iopub.status.idle": "2025-04-26T01:37:47.408608Z",
     "shell.execute_reply": "2025-04-26T01:37:47.407392Z"
    },
    "papermill": {
     "duration": 1.97262,
     "end_time": "2025-04-26T01:37:47.410097",
     "exception": false,
     "start_time": "2025-04-26T01:37:45.437477",
     "status": "completed"
    },
    "tags": []
   },
   "outputs": [
    {
     "name": "stdout",
     "output_type": "stream",
     "text": [
      "Setup complete! You're ready to start question 0.\n"
     ]
    }
   ],
   "source": [
    "from learntools.core import binder; binder.bind(globals())\n",
    "from learntools.python.ex1 import *\n",
    "print(\"Setup complete! You're ready to start question 0.\")"
   ]
  },
  {
   "cell_type": "markdown",
   "id": "43545346",
   "metadata": {
    "papermill": {
     "duration": 0.004575,
     "end_time": "2025-04-26T01:37:47.419644",
     "exception": false,
     "start_time": "2025-04-26T01:37:47.415069",
     "status": "completed"
    },
    "tags": []
   },
   "source": [
    "# 0.\n",
    "\n",
    "*This is a silly question intended as an introduction to the format we use for hands-on exercises throughout all Kaggle courses.*\n",
    "\n",
    "**What is your favorite color? **\n",
    "\n",
    "To complete this question, create a variable called `color` in the cell below with an appropriate value. The function call `q0.check()` (which we've already provided in the cell below) will check your answer."
   ]
  },
  {
   "cell_type": "code",
   "execution_count": 3,
   "id": "2acc490f",
   "metadata": {
    "execution": {
     "iopub.execute_input": "2025-04-26T01:37:47.430398Z",
     "iopub.status.busy": "2025-04-26T01:37:47.429441Z",
     "iopub.status.idle": "2025-04-26T01:37:47.438570Z",
     "shell.execute_reply": "2025-04-26T01:37:47.437694Z"
    },
    "papermill": {
     "duration": 0.016145,
     "end_time": "2025-04-26T01:37:47.440232",
     "exception": false,
     "start_time": "2025-04-26T01:37:47.424087",
     "status": "completed"
    },
    "tags": []
   },
   "outputs": [
    {
     "data": {
      "application/javascript": [
       "parent.postMessage({\"jupyterEvent\": \"custom.exercise_interaction\", \"data\": {\"outcomeType\": 1, \"valueTowardsCompletion\": 0.25, \"interactionType\": 1, \"questionType\": 2, \"questionId\": \"0_ExerciseFormatTutorial\", \"learnToolsVersion\": \"0.3.5\", \"failureMessage\": \"\", \"exceptionClass\": \"\", \"trace\": \"\"}}, \"*\")"
      ],
      "text/plain": [
       "<IPython.core.display.Javascript object>"
      ]
     },
     "metadata": {},
     "output_type": "display_data"
    },
    {
     "data": {
      "text/markdown": [
       "<span style=\"color:#33cc33\">Correct:</span> What?! You got it right without needing a hint or anything? Drats. Well hey, you should still continue to the next step to get some practice asking for a hint and checking solutions. (Even though you obviously don't need any help here.)"
      ],
      "text/plain": [
       "Correct: What?! You got it right without needing a hint or anything? Drats. Well hey, you should still continue to the next step to get some practice asking for a hint and checking solutions. (Even though you obviously don't need any help here.)"
      ]
     },
     "metadata": {},
     "output_type": "display_data"
    }
   ],
   "source": [
    "# create a variable called color with an appropriate value on the line below\n",
    "# (Remember, strings in Python must be enclosed in 'single' or \"double\" quotes)\n",
    "\n",
    "color = \"blue\"\n",
    "\n",
    "# Check your answer\n",
    "q0.check()"
   ]
  },
  {
   "cell_type": "markdown",
   "id": "19e92b01",
   "metadata": {
    "papermill": {
     "duration": 0.004541,
     "end_time": "2025-04-26T01:37:47.449906",
     "exception": false,
     "start_time": "2025-04-26T01:37:47.445365",
     "status": "completed"
    },
    "tags": []
   },
   "source": [
    "Didn't get the right answer? How do you not even know your own favorite color?!\n",
    "\n",
    "Delete the `#` in the line below to make one of the lines run. You can choose between getting a hint or the full answer by choosing which line to remove the `#` from. \n",
    "\n",
    "Removing the `#` is called uncommenting, because it changes that line from a \"comment\" which Python doesn't run to code, which Python does run."
   ]
  },
  {
   "cell_type": "code",
   "execution_count": 4,
   "id": "56902012",
   "metadata": {
    "execution": {
     "iopub.execute_input": "2025-04-26T01:37:47.460634Z",
     "iopub.status.busy": "2025-04-26T01:37:47.460329Z",
     "iopub.status.idle": "2025-04-26T01:37:47.464345Z",
     "shell.execute_reply": "2025-04-26T01:37:47.463540Z"
    },
    "papermill": {
     "duration": 0.011005,
     "end_time": "2025-04-26T01:37:47.465713",
     "exception": false,
     "start_time": "2025-04-26T01:37:47.454708",
     "status": "completed"
    },
    "tags": []
   },
   "outputs": [],
   "source": [
    "# q0.hint()\n",
    "#q0.solution()"
   ]
  },
  {
   "cell_type": "markdown",
   "id": "513fd0ac",
   "metadata": {
    "papermill": {
     "duration": 0.004533,
     "end_time": "2025-04-26T01:37:47.475089",
     "exception": false,
     "start_time": "2025-04-26T01:37:47.470556",
     "status": "completed"
    },
    "tags": []
   },
   "source": [
    "The upcoming questions work the same way. The only thing that will change are the question numbers. For the next question, you'll call `q1.check()`, `q1.hint()`, `q1.solution()`, for question 2, you'll call `q2.check()`, and so on."
   ]
  },
  {
   "cell_type": "markdown",
   "id": "d58bd57e",
   "metadata": {
    "papermill": {
     "duration": 0.004368,
     "end_time": "2025-04-26T01:37:47.484322",
     "exception": false,
     "start_time": "2025-04-26T01:37:47.479954",
     "status": "completed"
    },
    "tags": []
   },
   "source": [
    "<hr/>\n",
    "\n",
    "# 1.\n",
    "\n",
    "Complete the code below. In case it's helpful, here is the table of available arithmetic operations:\n",
    "\n",
    "\n",
    "\n",
    "| Operator     | Name           | Description                                            |\n",
    "|--------------|----------------|--------------------------------------------------------|\n",
    "| ``a + b``    | Addition       | Sum of ``a`` and ``b``                                 |\n",
    "| ``a - b``    | Subtraction    | Difference of ``a`` and ``b``                          |\n",
    "| ``a * b``    | Multiplication | Product of ``a`` and ``b``                             |\n",
    "| ``a / b``    | True division  | Quotient of ``a`` and ``b``                            |\n",
    "| ``a // b``   | Floor division | Quotient of ``a`` and ``b``, removing fractional parts |\n",
    "| ``a % b``    | Modulus        | Integer remainder after division of ``a`` by ``b``     |\n",
    "| ``a ** b``   | Exponentiation | ``a`` raised to the power of ``b``                     |\n",
    "| ``-a``       | Negation       | The negative of ``a``                                  |\n",
    "\n",
    "<span style=\"display:none\"></span>\n"
   ]
  },
  {
   "cell_type": "code",
   "execution_count": 5,
   "id": "0d707828",
   "metadata": {
    "execution": {
     "iopub.execute_input": "2025-04-26T01:37:47.495521Z",
     "iopub.status.busy": "2025-04-26T01:37:47.494859Z",
     "iopub.status.idle": "2025-04-26T01:37:47.503807Z",
     "shell.execute_reply": "2025-04-26T01:37:47.502738Z"
    },
    "papermill": {
     "duration": 0.016359,
     "end_time": "2025-04-26T01:37:47.505227",
     "exception": false,
     "start_time": "2025-04-26T01:37:47.488868",
     "status": "completed"
    },
    "tags": []
   },
   "outputs": [
    {
     "data": {
      "application/javascript": [
       "parent.postMessage({\"jupyterEvent\": \"custom.exercise_interaction\", \"data\": {\"outcomeType\": 1, \"valueTowardsCompletion\": 0.25, \"interactionType\": 1, \"questionType\": 1, \"questionId\": \"1_CircleArea\", \"learnToolsVersion\": \"0.3.5\", \"failureMessage\": \"\", \"exceptionClass\": \"\", \"trace\": \"\"}}, \"*\")"
      ],
      "text/plain": [
       "<IPython.core.display.Javascript object>"
      ]
     },
     "metadata": {},
     "output_type": "display_data"
    },
    {
     "data": {
      "text/markdown": [
       "<span style=\"color:#33cc33\">Correct</span>"
      ],
      "text/plain": [
       "Correct"
      ]
     },
     "metadata": {},
     "output_type": "display_data"
    }
   ],
   "source": [
    "pi = 3.14159 # approximate\n",
    "diameter = 3\n",
    "\n",
    "# Create a variable called 'radius' equal to half the diameter\n",
    "radius = diameter / 2\n",
    "# Create a variable called 'area', using the formula for the area of a circle: pi times the radius squared\n",
    "area = pi * (radius ** 2)\n",
    "\n",
    "# Check your answer\n",
    "q1.check()"
   ]
  },
  {
   "cell_type": "code",
   "execution_count": 6,
   "id": "b72cf3d7",
   "metadata": {
    "execution": {
     "iopub.execute_input": "2025-04-26T01:37:47.516440Z",
     "iopub.status.busy": "2025-04-26T01:37:47.516170Z",
     "iopub.status.idle": "2025-04-26T01:37:47.520181Z",
     "shell.execute_reply": "2025-04-26T01:37:47.519308Z"
    },
    "papermill": {
     "duration": 0.011244,
     "end_time": "2025-04-26T01:37:47.521504",
     "exception": false,
     "start_time": "2025-04-26T01:37:47.510260",
     "status": "completed"
    },
    "tags": []
   },
   "outputs": [],
   "source": [
    "# Uncomment and run the lines below if you need help.\n",
    "#q1.hint()\n",
    "#q1.solution()"
   ]
  },
  {
   "cell_type": "markdown",
   "id": "555caaa0",
   "metadata": {
    "papermill": {
     "duration": 0.00464,
     "end_time": "2025-04-26T01:37:47.531615",
     "exception": false,
     "start_time": "2025-04-26T01:37:47.526975",
     "status": "completed"
    },
    "tags": []
   },
   "source": [
    "<hr/>\n",
    "\n",
    "# 2.\n",
    "\n",
    "Add code to the following cell to swap variables `a` and `b` (so that `a` refers to the object previously referred to by `b` and vice versa)."
   ]
  },
  {
   "cell_type": "code",
   "execution_count": 7,
   "id": "dbb8f401",
   "metadata": {
    "execution": {
     "iopub.execute_input": "2025-04-26T01:37:47.542478Z",
     "iopub.status.busy": "2025-04-26T01:37:47.542191Z",
     "iopub.status.idle": "2025-04-26T01:37:47.550118Z",
     "shell.execute_reply": "2025-04-26T01:37:47.549240Z"
    },
    "papermill": {
     "duration": 0.015082,
     "end_time": "2025-04-26T01:37:47.551520",
     "exception": false,
     "start_time": "2025-04-26T01:37:47.536438",
     "status": "completed"
    },
    "tags": []
   },
   "outputs": [
    {
     "data": {
      "application/javascript": [
       "parent.postMessage({\"jupyterEvent\": \"custom.exercise_interaction\", \"data\": {\"outcomeType\": 1, \"valueTowardsCompletion\": 0.25, \"interactionType\": 1, \"questionType\": 2, \"questionId\": \"2_VariableSwap\", \"learnToolsVersion\": \"0.3.5\", \"failureMessage\": \"\", \"exceptionClass\": \"\", \"trace\": \"\"}}, \"*\")"
      ],
      "text/plain": [
       "<IPython.core.display.Javascript object>"
      ]
     },
     "metadata": {},
     "output_type": "display_data"
    },
    {
     "data": {
      "text/markdown": [
       "<span style=\"color:#33cc33\">Correct:</span> \n",
       "\n",
       "The most straightforward solution is to use a third variable to temporarily store one of the old values. e.g.:\n",
       "\n",
       "    tmp = a\n",
       "    a = b\n",
       "    b = tmp\n",
       "\n",
       "If you've read lots of Python code, you might have seen the following trick to swap two variables in one line:\n",
       "\n",
       "    a, b = b, a\n",
       "\n",
       "We'll demystify this bit of Python magic later when we talk about *tuples*."
      ],
      "text/plain": [
       "Correct: \n",
       "\n",
       "The most straightforward solution is to use a third variable to temporarily store one of the old values. e.g.:\n",
       "\n",
       "    tmp = a\n",
       "    a = b\n",
       "    b = tmp\n",
       "\n",
       "If you've read lots of Python code, you might have seen the following trick to swap two variables in one line:\n",
       "\n",
       "    a, b = b, a\n",
       "\n",
       "We'll demystify this bit of Python magic later when we talk about *tuples*."
      ]
     },
     "metadata": {},
     "output_type": "display_data"
    }
   ],
   "source": [
    "########### Setup code - don't touch this part ######################\n",
    "# If you're curious, these are examples of lists. We'll talk about \n",
    "# them in depth a few lessons from now. For now, just know that they're\n",
    "# yet another type of Python object, like int or float.\n",
    "a = [1, 2, 3]\n",
    "b = [3, 2, 1]\n",
    "q2.store_original_ids()\n",
    "######################################################################\n",
    "\n",
    "a, b = b, a\n",
    "\n",
    "# Your code goes here. Swap the values to which a and b refer.\n",
    "# If you get stuck, you can always uncomment one or both of the lines in\n",
    "# the next cell for a hint, or to peek at the solution.\n",
    "\n",
    "######################################################################\n",
    "\n",
    "# Check your answer\n",
    "q2.check()"
   ]
  },
  {
   "cell_type": "code",
   "execution_count": 8,
   "id": "495151c8",
   "metadata": {
    "execution": {
     "iopub.execute_input": "2025-04-26T01:37:47.563375Z",
     "iopub.status.busy": "2025-04-26T01:37:47.563059Z",
     "iopub.status.idle": "2025-04-26T01:37:47.567283Z",
     "shell.execute_reply": "2025-04-26T01:37:47.566431Z"
    },
    "papermill": {
     "duration": 0.012618,
     "end_time": "2025-04-26T01:37:47.569510",
     "exception": false,
     "start_time": "2025-04-26T01:37:47.556892",
     "status": "completed"
    },
    "tags": []
   },
   "outputs": [],
   "source": [
    "#q2.hint()"
   ]
  },
  {
   "cell_type": "code",
   "execution_count": 9,
   "id": "4b26c176",
   "metadata": {
    "execution": {
     "iopub.execute_input": "2025-04-26T01:37:47.582236Z",
     "iopub.status.busy": "2025-04-26T01:37:47.581616Z",
     "iopub.status.idle": "2025-04-26T01:37:47.585703Z",
     "shell.execute_reply": "2025-04-26T01:37:47.584898Z"
    },
    "papermill": {
     "duration": 0.012221,
     "end_time": "2025-04-26T01:37:47.587189",
     "exception": false,
     "start_time": "2025-04-26T01:37:47.574968",
     "status": "completed"
    },
    "tags": []
   },
   "outputs": [],
   "source": [
    "#q2.solution()"
   ]
  },
  {
   "cell_type": "markdown",
   "id": "63d514ff",
   "metadata": {
    "papermill": {
     "duration": 0.004904,
     "end_time": "2025-04-26T01:37:47.597773",
     "exception": false,
     "start_time": "2025-04-26T01:37:47.592869",
     "status": "completed"
    },
    "tags": []
   },
   "source": [
    "<hr/>\n",
    "\n",
    "# 3a.\n",
    "\n",
    "Add parentheses to the following expression so that it evaluates to 1."
   ]
  },
  {
   "cell_type": "code",
   "execution_count": 10,
   "id": "8c85e663",
   "metadata": {
    "execution": {
     "iopub.execute_input": "2025-04-26T01:37:47.609854Z",
     "iopub.status.busy": "2025-04-26T01:37:47.609492Z",
     "iopub.status.idle": "2025-04-26T01:37:47.615827Z",
     "shell.execute_reply": "2025-04-26T01:37:47.615049Z"
    },
    "papermill": {
     "duration": 0.014001,
     "end_time": "2025-04-26T01:37:47.617326",
     "exception": false,
     "start_time": "2025-04-26T01:37:47.603325",
     "status": "completed"
    },
    "tags": []
   },
   "outputs": [
    {
     "data": {
      "text/plain": [
       "1"
      ]
     },
     "execution_count": 10,
     "metadata": {},
     "output_type": "execute_result"
    }
   ],
   "source": [
    "(5 - 3) // 2"
   ]
  },
  {
   "cell_type": "code",
   "execution_count": 11,
   "id": "31714270",
   "metadata": {
    "execution": {
     "iopub.execute_input": "2025-04-26T01:37:47.630251Z",
     "iopub.status.busy": "2025-04-26T01:37:47.629947Z",
     "iopub.status.idle": "2025-04-26T01:37:47.637188Z",
     "shell.execute_reply": "2025-04-26T01:37:47.636452Z"
    },
    "papermill": {
     "duration": 0.015578,
     "end_time": "2025-04-26T01:37:47.638504",
     "exception": false,
     "start_time": "2025-04-26T01:37:47.622926",
     "status": "completed"
    },
    "tags": []
   },
   "outputs": [
    {
     "data": {
      "application/javascript": [
       "parent.postMessage({\"jupyterEvent\": \"custom.exercise_interaction\", \"data\": {\"interactionType\": 2, \"questionType\": 4, \"questionId\": \"3.1_ArithmeticParensEasy\", \"learnToolsVersion\": \"0.3.5\", \"valueTowardsCompletion\": 0.0, \"failureMessage\": \"\", \"exceptionClass\": \"\", \"trace\": \"\", \"outcomeType\": 4}}, \"*\")"
      ],
      "text/plain": [
       "<IPython.core.display.Javascript object>"
      ]
     },
     "metadata": {},
     "output_type": "display_data"
    },
    {
     "data": {
      "text/markdown": [
       "<span style=\"color:#3366cc\">Hint:</span> Following its default \"BEDMAS\"-like rules for order of operations, Python will first divide 3 by 2, then subtract the result from 5. You need to add parentheses to force it to perform the subtraction first."
      ],
      "text/plain": [
       "Hint: Following its default \"BEDMAS\"-like rules for order of operations, Python will first divide 3 by 2, then subtract the result from 5. You need to add parentheses to force it to perform the subtraction first."
      ]
     },
     "metadata": {},
     "output_type": "display_data"
    }
   ],
   "source": [
    "q3.a.hint()"
   ]
  },
  {
   "cell_type": "code",
   "execution_count": 12,
   "id": "63a6e9f2",
   "metadata": {
    "execution": {
     "iopub.execute_input": "2025-04-26T01:37:47.650849Z",
     "iopub.status.busy": "2025-04-26T01:37:47.650524Z",
     "iopub.status.idle": "2025-04-26T01:37:47.657718Z",
     "shell.execute_reply": "2025-04-26T01:37:47.657036Z"
    },
    "papermill": {
     "duration": 0.014968,
     "end_time": "2025-04-26T01:37:47.659155",
     "exception": false,
     "start_time": "2025-04-26T01:37:47.644187",
     "status": "completed"
    },
    "tags": []
   },
   "outputs": [
    {
     "data": {
      "application/javascript": [
       "parent.postMessage({\"jupyterEvent\": \"custom.exercise_interaction\", \"data\": {\"interactionType\": 3, \"questionType\": 4, \"questionId\": \"3.1_ArithmeticParensEasy\", \"learnToolsVersion\": \"0.3.5\", \"valueTowardsCompletion\": 0.0, \"failureMessage\": \"\", \"exceptionClass\": \"\", \"trace\": \"\", \"outcomeType\": 4}}, \"*\")"
      ],
      "text/plain": [
       "<IPython.core.display.Javascript object>"
      ]
     },
     "metadata": {},
     "output_type": "display_data"
    },
    {
     "data": {
      "text/markdown": [
       "<span style=\"color:#33cc99\">Solution:</span> \n",
       "```python\n",
       "(5 - 3) // 2\n",
       "```"
      ],
      "text/plain": [
       "Solution: \n",
       "```python\n",
       "(5 - 3) // 2\n",
       "```"
      ]
     },
     "metadata": {},
     "output_type": "display_data"
    }
   ],
   "source": [
    "# Check your answer (Run this code cell to receive credit!)\n",
    "q3.a.solution()"
   ]
  },
  {
   "cell_type": "markdown",
   "id": "614ef9f4",
   "metadata": {
    "papermill": {
     "duration": 0.005492,
     "end_time": "2025-04-26T01:37:47.670830",
     "exception": false,
     "start_time": "2025-04-26T01:37:47.665338",
     "status": "completed"
    },
    "tags": []
   },
   "source": [
    "# 3b.  <span title=\"A bit spicy\" style=\"color: darkgreen \">🌶️</span>\n",
    "\n",
    "<small>Questions, like this one, marked a spicy pepper are a bit harder.</small>\n",
    "\n",
    "Add parentheses to the following expression so that it evaluates to 0."
   ]
  },
  {
   "cell_type": "code",
   "execution_count": 13,
   "id": "80f13fe6",
   "metadata": {
    "execution": {
     "iopub.execute_input": "2025-04-26T01:37:47.683446Z",
     "iopub.status.busy": "2025-04-26T01:37:47.683150Z",
     "iopub.status.idle": "2025-04-26T01:37:47.688561Z",
     "shell.execute_reply": "2025-04-26T01:37:47.687814Z"
    },
    "papermill": {
     "duration": 0.013661,
     "end_time": "2025-04-26T01:37:47.690078",
     "exception": false,
     "start_time": "2025-04-26T01:37:47.676417",
     "status": "completed"
    },
    "tags": []
   },
   "outputs": [
    {
     "data": {
      "text/plain": [
       "0"
      ]
     },
     "execution_count": 13,
     "metadata": {},
     "output_type": "execute_result"
    }
   ],
   "source": [
    "(8 - 3) * (2 - (1 + 1))"
   ]
  },
  {
   "cell_type": "code",
   "execution_count": 14,
   "id": "b2ef0fd2",
   "metadata": {
    "execution": {
     "iopub.execute_input": "2025-04-26T01:37:47.707044Z",
     "iopub.status.busy": "2025-04-26T01:37:47.706737Z",
     "iopub.status.idle": "2025-04-26T01:37:47.715247Z",
     "shell.execute_reply": "2025-04-26T01:37:47.714305Z"
    },
    "papermill": {
     "duration": 0.018485,
     "end_time": "2025-04-26T01:37:47.716876",
     "exception": false,
     "start_time": "2025-04-26T01:37:47.698391",
     "status": "completed"
    },
    "tags": []
   },
   "outputs": [
    {
     "data": {
      "application/javascript": [
       "parent.postMessage({\"jupyterEvent\": \"custom.exercise_interaction\", \"data\": {\"interactionType\": 2, \"questionType\": 4, \"questionId\": \"3.2_ArithmeticParensHard\", \"learnToolsVersion\": \"0.3.5\", \"valueTowardsCompletion\": 0.0, \"failureMessage\": \"\", \"exceptionClass\": \"\", \"trace\": \"\", \"outcomeType\": 4}}, \"*\")"
      ],
      "text/plain": [
       "<IPython.core.display.Javascript object>"
      ]
     },
     "metadata": {},
     "output_type": "display_data"
    },
    {
     "data": {
      "text/markdown": [
       "<span style=\"color:#3366cc\">Hint:</span> You may need to use several pairs of parentheses."
      ],
      "text/plain": [
       "Hint: You may need to use several pairs of parentheses."
      ]
     },
     "metadata": {},
     "output_type": "display_data"
    }
   ],
   "source": [
    "q3.b.hint()"
   ]
  },
  {
   "cell_type": "code",
   "execution_count": 15,
   "id": "63111f9a",
   "metadata": {
    "execution": {
     "iopub.execute_input": "2025-04-26T01:37:47.737502Z",
     "iopub.status.busy": "2025-04-26T01:37:47.737219Z",
     "iopub.status.idle": "2025-04-26T01:37:47.745209Z",
     "shell.execute_reply": "2025-04-26T01:37:47.744172Z"
    },
    "papermill": {
     "duration": 0.019896,
     "end_time": "2025-04-26T01:37:47.746637",
     "exception": false,
     "start_time": "2025-04-26T01:37:47.726741",
     "status": "completed"
    },
    "tags": []
   },
   "outputs": [
    {
     "data": {
      "application/javascript": [
       "parent.postMessage({\"jupyterEvent\": \"custom.exercise_interaction\", \"data\": {\"interactionType\": 3, \"questionType\": 4, \"questionId\": \"3.2_ArithmeticParensHard\", \"learnToolsVersion\": \"0.3.5\", \"valueTowardsCompletion\": 0.0, \"failureMessage\": \"\", \"exceptionClass\": \"\", \"trace\": \"\", \"outcomeType\": 4}}, \"*\")"
      ],
      "text/plain": [
       "<IPython.core.display.Javascript object>"
      ]
     },
     "metadata": {},
     "output_type": "display_data"
    },
    {
     "data": {
      "text/markdown": [
       "<span style=\"color:#33cc99\">Solution:</span> `(8 - 3) * (2 - (1 + 1))` is one solution. There may be others."
      ],
      "text/plain": [
       "Solution: `(8 - 3) * (2 - (1 + 1))` is one solution. There may be others."
      ]
     },
     "metadata": {},
     "output_type": "display_data"
    }
   ],
   "source": [
    "# Check your answer (Run this code cell to receive credit!)\n",
    "q3.b.solution()"
   ]
  },
  {
   "cell_type": "markdown",
   "id": "eba02c63",
   "metadata": {
    "papermill": {
     "duration": 0.008203,
     "end_time": "2025-04-26T01:37:47.761805",
     "exception": false,
     "start_time": "2025-04-26T01:37:47.753602",
     "status": "completed"
    },
    "tags": []
   },
   "source": [
    "<hr/>\n",
    "\n",
    "# 4. \n",
    "Alice, Bob and Carol have agreed to pool their Halloween candy and split it evenly among themselves.\n",
    "For the sake of their friendship, any candies left over will be smashed. For example, if they collectively\n",
    "bring home 91 candies, they'll take 30 each and smash 1.\n",
    "\n",
    "Write an arithmetic expression below to calculate how many candies they must smash for a given haul."
   ]
  },
  {
   "cell_type": "code",
   "execution_count": 16,
   "id": "013e4da2",
   "metadata": {
    "execution": {
     "iopub.execute_input": "2025-04-26T01:37:47.778721Z",
     "iopub.status.busy": "2025-04-26T01:37:47.778396Z",
     "iopub.status.idle": "2025-04-26T01:37:47.786324Z",
     "shell.execute_reply": "2025-04-26T01:37:47.785110Z"
    },
    "papermill": {
     "duration": 0.017883,
     "end_time": "2025-04-26T01:37:47.788629",
     "exception": false,
     "start_time": "2025-04-26T01:37:47.770746",
     "status": "completed"
    },
    "tags": []
   },
   "outputs": [
    {
     "data": {
      "application/javascript": [
       "parent.postMessage({\"jupyterEvent\": \"custom.exercise_interaction\", \"data\": {\"outcomeType\": 1, \"valueTowardsCompletion\": 0.25, \"interactionType\": 1, \"questionType\": 1, \"questionId\": \"4_CandySplitting\", \"learnToolsVersion\": \"0.3.5\", \"failureMessage\": \"\", \"exceptionClass\": \"\", \"trace\": \"\"}}, \"*\")"
      ],
      "text/plain": [
       "<IPython.core.display.Javascript object>"
      ]
     },
     "metadata": {},
     "output_type": "display_data"
    },
    {
     "data": {
      "text/markdown": [
       "<span style=\"color:#33cc33\">Correct</span>"
      ],
      "text/plain": [
       "Correct"
      ]
     },
     "metadata": {},
     "output_type": "display_data"
    }
   ],
   "source": [
    "# Variables representing the number of candies collected by alice, bob, and carol\n",
    "alice_candies = 121\n",
    "bob_candies = 77\n",
    "carol_candies = 109\n",
    "\n",
    "# Your code goes here! Replace the right-hand side of this assignment with an expression\n",
    "# involving alice_candies, bob_candies, and carol_candies\n",
    "to_smash = (alice_candies + bob_candies + carol_candies) % 3\n",
    "\n",
    "\n",
    "\n",
    "\n",
    "# Check your answer\n",
    "q4.check()"
   ]
  },
  {
   "cell_type": "code",
   "execution_count": 17,
   "id": "2065ae43",
   "metadata": {
    "execution": {
     "iopub.execute_input": "2025-04-26T01:37:47.803243Z",
     "iopub.status.busy": "2025-04-26T01:37:47.802911Z",
     "iopub.status.idle": "2025-04-26T01:37:47.807186Z",
     "shell.execute_reply": "2025-04-26T01:37:47.806150Z"
    },
    "papermill": {
     "duration": 0.013375,
     "end_time": "2025-04-26T01:37:47.808677",
     "exception": false,
     "start_time": "2025-04-26T01:37:47.795302",
     "status": "completed"
    },
    "tags": []
   },
   "outputs": [],
   "source": [
    "#q4.hint()\n",
    "#q4.solution()"
   ]
  },
  {
   "cell_type": "markdown",
   "id": "964be8db",
   "metadata": {
    "papermill": {
     "duration": 0.006336,
     "end_time": "2025-04-26T01:37:47.821625",
     "exception": false,
     "start_time": "2025-04-26T01:37:47.815289",
     "status": "completed"
    },
    "tags": []
   },
   "source": [
    "# Keep Going\n",
    "\n",
    "Next up, you'll **[learn to write new functions and understand functions others write](https://www.kaggle.com/colinmorris/functions-and-getting-help)**. This will make you at least 10 times more productive as a Python programmer. "
   ]
  },
  {
   "cell_type": "markdown",
   "id": "9c9f0a2b",
   "metadata": {
    "papermill": {
     "duration": 0.005992,
     "end_time": "2025-04-26T01:37:47.834649",
     "exception": false,
     "start_time": "2025-04-26T01:37:47.828657",
     "status": "completed"
    },
    "tags": []
   },
   "source": [
    "---\n",
    "\n",
    "\n",
    "\n",
    "\n",
    "*Have questions or comments? Visit the [course discussion forum](https://www.kaggle.com/learn/python/discussion) to chat with other learners.*"
   ]
  }
 ],
 "metadata": {
  "kaggle": {
   "accelerator": "none",
   "dataSources": [],
   "isGpuEnabled": false,
   "isInternetEnabled": false,
   "language": "python",
   "sourceType": "notebook"
  },
  "kernelspec": {
   "display_name": "Python 3",
   "language": "python",
   "name": "python3"
  },
  "language_info": {
   "codemirror_mode": {
    "name": "ipython",
    "version": 3
   },
   "file_extension": ".py",
   "mimetype": "text/x-python",
   "name": "python",
   "nbconvert_exporter": "python",
   "pygments_lexer": "ipython3",
   "version": "3.11.11"
  },
  "learntools_metadata": {
   "lesson_index": 0,
   "type": "exercise"
  },
  "papermill": {
   "default_parameters": {},
   "duration": 7.883008,
   "end_time": "2025-04-26T01:37:48.361107",
   "environment_variables": {},
   "exception": null,
   "input_path": "__notebook__.ipynb",
   "output_path": "__notebook__.ipynb",
   "parameters": {},
   "start_time": "2025-04-26T01:37:40.478099",
   "version": "2.6.0"
  }
 },
 "nbformat": 4,
 "nbformat_minor": 5
}
